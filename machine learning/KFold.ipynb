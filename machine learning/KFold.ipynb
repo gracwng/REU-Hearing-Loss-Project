{
 "cells": [
  {
   "cell_type": "code",
   "execution_count": 5,
   "metadata": {},
   "outputs": [
    {
     "name": "stdout",
     "output_type": "stream",
     "text": [
      "Number of subjects: 2\n",
      "List of subjects:\n",
      "['Healthy', 'Hearing Impaired']\n"
     ]
    },
    {
     "ename": "ValueError",
     "evalue": "Cannot have number of splits n_splits=5 greater than the number of samples: n_samples=2.",
     "output_type": "error",
     "traceback": [
      "\u001b[0;31m---------------------------------------------------------------------------\u001b[0m",
      "\u001b[0;31mValueError\u001b[0m                                Traceback (most recent call last)",
      "Cell \u001b[0;32mIn[5], line 24\u001b[0m\n\u001b[1;32m     21\u001b[0m skf \u001b[38;5;241m=\u001b[39m StratifiedKFold(n_splits\u001b[38;5;241m=\u001b[39mk_folds, shuffle\u001b[38;5;241m=\u001b[39m\u001b[38;5;28;01mTrue\u001b[39;00m, random_state\u001b[38;5;241m=\u001b[39m\u001b[38;5;241m42\u001b[39m)\n\u001b[1;32m     23\u001b[0m \u001b[38;5;66;03m# Iterate over K folds\u001b[39;00m\n\u001b[0;32m---> 24\u001b[0m \u001b[38;5;28;01mfor\u001b[39;00m fold, (train_indices, test_indices) \u001b[38;5;129;01min\u001b[39;00m \u001b[38;5;28menumerate\u001b[39m(skf\u001b[38;5;241m.\u001b[39msplit(subjects, subjects)):\n\u001b[1;32m     25\u001b[0m     \u001b[38;5;28mprint\u001b[39m(\u001b[38;5;124mf\u001b[39m\u001b[38;5;124m\"\u001b[39m\u001b[38;5;130;01m\\n\u001b[39;00m\u001b[38;5;124mFold \u001b[39m\u001b[38;5;132;01m{\u001b[39;00mfold\u001b[38;5;250m \u001b[39m\u001b[38;5;241m+\u001b[39m\u001b[38;5;250m \u001b[39m\u001b[38;5;241m1\u001b[39m\u001b[38;5;132;01m}\u001b[39;00m\u001b[38;5;124m/\u001b[39m\u001b[38;5;132;01m{\u001b[39;00mk_folds\u001b[38;5;132;01m}\u001b[39;00m\u001b[38;5;124m\"\u001b[39m)\n\u001b[1;32m     27\u001b[0m     \u001b[38;5;66;03m# Create directories for train, validate, and test splits\u001b[39;00m\n",
      "File \u001b[0;32m/Library/Frameworks/Python.framework/Versions/3.10/lib/python3.10/site-packages/sklearn/model_selection/_split.py:370\u001b[0m, in \u001b[0;36m_BaseKFold.split\u001b[0;34m(self, X, y, groups)\u001b[0m\n\u001b[1;32m    368\u001b[0m n_samples \u001b[39m=\u001b[39m _num_samples(X)\n\u001b[1;32m    369\u001b[0m \u001b[39mif\u001b[39;00m \u001b[39mself\u001b[39m\u001b[39m.\u001b[39mn_splits \u001b[39m>\u001b[39m n_samples:\n\u001b[0;32m--> 370\u001b[0m     \u001b[39mraise\u001b[39;00m \u001b[39mValueError\u001b[39;00m(\n\u001b[1;32m    371\u001b[0m         (\n\u001b[1;32m    372\u001b[0m             \u001b[39m\"\u001b[39m\u001b[39mCannot have number of splits n_splits=\u001b[39m\u001b[39m{0}\u001b[39;00m\u001b[39m greater\u001b[39m\u001b[39m\"\u001b[39m\n\u001b[1;32m    373\u001b[0m             \u001b[39m\"\u001b[39m\u001b[39m than the number of samples: n_samples=\u001b[39m\u001b[39m{1}\u001b[39;00m\u001b[39m.\u001b[39m\u001b[39m\"\u001b[39m\n\u001b[1;32m    374\u001b[0m         )\u001b[39m.\u001b[39mformat(\u001b[39mself\u001b[39m\u001b[39m.\u001b[39mn_splits, n_samples)\n\u001b[1;32m    375\u001b[0m     )\n\u001b[1;32m    377\u001b[0m \u001b[39mfor\u001b[39;00m train, test \u001b[39min\u001b[39;00m \u001b[39msuper\u001b[39m()\u001b[39m.\u001b[39msplit(X, y, groups):\n\u001b[1;32m    378\u001b[0m     \u001b[39myield\u001b[39;00m train, test\n",
      "\u001b[0;31mValueError\u001b[0m: Cannot have number of splits n_splits=5 greater than the number of samples: n_samples=2."
     ]
    }
   ],
   "source": [
    "import os\n",
    "from sklearn.model_selection import StratifiedKFold\n",
    "import numpy as np\n",
    "\n",
    "# Assuming your data is organized as follows:\n",
    "# - Data split by subject folder\n",
    "#   - Healthy folder\n",
    "#     - Subject_001 folder\n",
    "#     - Subject_002 folder\n",
    "#     ...\n",
    "#   - Hearing Impaired folder\n",
    "#     - Subject_003 folder\n",
    "#     - Subject_004 folder\n",
    "#     ...\n",
    "\n",
    "# Specify the root directory containing the subfolders\n",
    "root_directory = \"/path/to/data_split_by_subject\"\n",
    "\n",
    "# Create a list of paths to the subfolders (classes)\n",
    "subfolder_paths = [os.path.join(root_directory, \"Healthy\"), os.path.join(root_directory, \"Hearing Impaired\")]\n",
    "\n",
    "# Combine the data paths and corresponding labels (0 for Healthy, 1 for Hearing Impaired)\n",
    "data_paths = []\n",
    "labels = []\n",
    "\n",
    "# Enumerate over subfolder_paths (0 for Healthy, 1 for Hearing Impaired)\n",
    "for label, subfolder_path in enumerate(subfolder_paths):\n",
    "    # Iterate over subject folders within each class\n",
    "    for subject_folder in os.listdir(subfolder_path):\n",
    "        # Construct the full path to the subject folder\n",
    "        subject_path = os.path.join(subfolder_path, subject_folder)\n",
    "        \n",
    "        # Append the subject path to data_paths\n",
    "        data_paths.append(subject_path)\n",
    "        \n",
    "        # Append the corresponding label to labels\n",
    "        labels.append(label)\n",
    "\n",
    "# Convert lists to arrays\n",
    "data_paths = np.array(data_paths)\n",
    "labels = np.array(labels)\n",
    "\n",
    "# Number of folds for k-fold cross-validation\n",
    "k_folds = 5\n",
    "skf = StratifiedKFold(n_splits=k_folds, shuffle=True, random_state=42)\n",
    "\n",
    "# Iterate over K folds\n",
    "for fold, (train_indices, test_indices) in enumerate(skf.split(data_paths, labels)):\n",
    "    print(f\"\\nFold {fold + 1}/{k_folds}\")\n",
    "\n",
    "    # Extract paths for training and testing\n",
    "    train_paths, test_paths = data_paths[train_indices], data_paths[test_indices]\n",
    "\n",
    "    # Your model training and evaluation code goes here\n",
    "    # ...\n",
    "\n",
    "    # Note: You may need to adjust the loading of data based on the structure of your dataset\n",
    "    # (e.g., loading images, features, labels, etc.)\n",
    "\n",
    "    # Example loading images using a library like PIL\n",
    "    # for path in train_paths:\n",
    "    #     images = load_images_from_path(path)\n",
    "    #     labels = get_labels_from_path(path)\n",
    "\n",
    "    # Example loading features using a data loading function\n",
    "    # X_train, y_train = load_data(train_paths)\n",
    "\n",
    "    # Example loading labels directly\n",
    "    # y_train = labels[train_indices]\n",
    "    # y_test = labels[test_indices]\n"
   ]
  }
 ],
 "metadata": {
  "kernelspec": {
   "display_name": "Python 3.10.2 64-bit",
   "language": "python",
   "name": "python3"
  },
  "language_info": {
   "name": "python",
   "version": "3.10.2"
  },
  "orig_nbformat": 4,
  "vscode": {
   "interpreter": {
    "hash": "aee8b7b246df8f9039afb4144a1f6fd8d2ca17a180786b69acc140d282b71a49"
   }
  }
 },
 "nbformat": 4,
 "nbformat_minor": 2
}
