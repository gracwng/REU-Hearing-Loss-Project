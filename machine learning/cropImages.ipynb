{
 "cells": [
  {
   "cell_type": "code",
   "execution_count": 1,
   "metadata": {},
   "outputs": [],
   "source": [
    "# code for cropping all the images so they're normalized to 224 x 224\n",
    "\n",
    "from PIL import Image\n",
    "import os\n",
    "\n",
    "# Define the paths to the folders that need cropping\n",
    "folders = [\n",
    "#     r'C:\\Users\\student\\Documents\\snhl-ERP\\machine learning\\training\\N1\\Healthy',\n",
    "#     r'C:\\Users\\student\\Documents\\snhl-ERP\\machine learning\\training\\N1\\Hearing Impaired',\n",
    "#     r'C:\\Users\\student\\Documents\\snhl-ERP\\machine learning\\training\\N2\\Healthy',\n",
    "#     r'C:\\Users\\student\\Documents\\snhl-ERP\\machine learning\\training\\N2\\Hearing Impaired',\n",
    "#     r'C:\\Users\\student\\Documents\\snhl-ERP\\machine learning\\training\\P1\\Healthy',\n",
    "#     r'C:\\Users\\student\\Documents\\snhl-ERP\\machine learning\\training\\P1\\Hearing Impaired',\n",
    "#     r'C:\\Users\\student\\Documents\\snhl-ERP\\machine learning\\training\\P2\\Healthy',\n",
    "#     r'C:\\Users\\student\\Documents\\snhl-ERP\\machine learning\\training\\P2\\Hearing Impaired',\n",
    "#     r'C:\\Users\\student\\Documents\\snhl-ERP\\machine learning\\training\\P3\\Healthy',\n",
    "#     r'C:\\Users\\student\\Documents\\snhl-ERP\\machine learning\\training\\P3\\Hearing Impaired',\n",
    "#     r'C:\\Users\\student\\Documents\\snhl-ERP\\machine learning\\testing\\N1\\Healthy',\n",
    "#     r'C:\\Users\\student\\Documents\\snhl-ERP\\machine learning\\testing\\N1\\Hearing Impaired',\n",
    "#     r'C:\\Users\\student\\Documents\\snhl-ERP\\machine learning\\testing\\N2\\Healthy',\n",
    "#     r'C:\\Users\\student\\Documents\\snhl-ERP\\machine learning\\testing\\N2\\Hearing Impaired',\n",
    "#     r'C:\\Users\\student\\Documents\\snhl-ERP\\machine learning\\testing\\P1\\Healthy',\n",
    "#     r'C:\\Users\\student\\Documents\\snhl-ERP\\machine learning\\testing\\P1\\Hearing Impaired',\n",
    "#     r'C:\\Users\\student\\Documents\\snhl-ERP\\machine learning\\testing\\P2\\Healthy',\n",
    "#     r'C:\\Users\\student\\Documents\\snhl-ERP\\machine learning\\testing\\P2\\Hearing Impaired',\n",
    "#     r'C:\\Users\\student\\Documents\\snhl-ERP\\machine learning\\testing\\P3\\Healthy',\n",
    "#     r'C:\\Users\\student\\Documents\\snhl-ERP\\machine learning\\testing\\P3\\Hearing Impaired'\n",
    "# r'C:\\Users\\student\\Documents\\snhl-ERP\\machine learning\\generalized-dataset\\Healthy',\n",
    "# r'C:\\Users\\student\\Documents\\snhl-ERP\\machine learning\\generalized-dataset\\Hearimg Impaired',\n",
    "# r'C:\\Users\\student\\Documents\\snhl-ERP\\machine learning\\N1\\Hearing Impaired',\n",
    "# r'C:\\Users\\student\\Documents\\snhl-ERP\\machine learning\\N1\\Not Hearing Impaired'\n",
    "# r'C:\\Users\\student\\Documents\\snhl-ERP\\machine learning\\10ms interval dataset\\Hearing Impaired- 10ms interval',\n",
    "# r'C:\\Users\\student\\Documents\\snhl-ERP\\machine learning\\10ms interval dataset\\Not Hearing Impaired- 10ms interval',\n",
    "# r'C:\\Users\\student\\Documents\\snhl-ERP\\machine learning\\8ms interval dataset\\Hearing Impaired- 8ms interval',\n",
    "# r'C:\\Users\\student\\Documents\\snhl-ERP\\machine learning\\8ms interval dataset\\Not Hearing Impaired- 8ms interval'\n",
    "]\n",
    "\n",
    "# Iterate over the specified folders\n",
    "for folder in folders:\n",
    "    # Iterate over the files in the folder\n",
    "    for file in os.listdir(folder):\n",
    "        # Check if the file is an image file\n",
    "        if file.endswith('.jpg') or file.endswith('.jpeg') or file.endswith('.png'):\n",
    "            # Construct the full file path\n",
    "            file_path = os.path.join(folder, file)\n",
    "\n",
    "            # Open the image using PIL\n",
    "            image = Image.open(file_path)\n",
    "\n",
    "            # Get the dimensions of the image\n",
    "            width, height = image.size\n",
    "\n",
    "            # These are the parameters below for cropping each image\n",
    "            size = 490\n",
    "            left = 160  # Modify this value to adjust the leftmost position of the crop\n",
    "            right = left + size  # Keep the rightmost position as the size of the square\n",
    "            top = 73\n",
    "            bottom = top + size\n",
    "\n",
    "            # Crop the image to the center square\n",
    "            cropped_image = image.crop((left, top, right, bottom))\n",
    "\n",
    "            # Resize the image to (224, 224)\n",
    "            resized_image = cropped_image.resize((224, 224))\n",
    "\n",
    "            # Replace the original image with the cropped and resized image\n",
    "            resized_image.save(file_path)\n"
   ]
  },
  {
   "cell_type": "code",
   "execution_count": 6,
   "metadata": {},
   "outputs": [
    {
     "name": "stdout",
     "output_type": "stream",
     "text": [
      "Images separated based on subject number.\n"
     ]
    }
   ],
   "source": [
    "# script to separate images based on the subject number in their filenames,\n",
    "import os\n",
    "import shutil\n",
    "\n",
    "# Path to the directory containing the images\n",
    "# image_directory = '/Users/GraceWang/Desktop/UNLV2023/hearingLossOriginalCodebase/REU-Hearing-Loss-Project/machine learning/split data 70-15-15/Healthy'\n",
    "image_directory = '/Users/GraceWang/Desktop/UNLV2023/hearingLossOriginalCodebase/REU-Hearing-Loss-Project/machine learning/split data 70-15-15/Hearing Impaired'\n",
    "# Path to the directory where the folders will be created\n",
    "target_directory = '/Users/GraceWang/Desktop/UNLV2023/hearingLossOriginalCodebase/REU-Hearing-Loss-Project/machine learning/data split by subject/Hearing Impaired'\n",
    "# Iterate through each file in the directory\n",
    "for filename in os.listdir(image_directory):\n",
    "    # Check if the file is a PNG image and contains the word \"sub\"\n",
    "    if filename.endswith('.png') and 'sub' in filename:\n",
    "        # Extract subject number from the filename\n",
    "        subject_number = filename.split('sub-')[1].split('.')[0]\n",
    "        \n",
    "        # Create a folder for the subject if it doesn't exist\n",
    "        subject_folder = os.path.join(target_directory, f'Subject_{subject_number}')\n",
    "        os.makedirs(subject_folder, exist_ok=True)\n",
    "        \n",
    "        # Move the image to the subject-specific folder\n",
    "        source_path = os.path.join(image_directory, filename)\n",
    "        destination_path = os.path.join(subject_folder, filename)\n",
    "        shutil.move(source_path, destination_path)\n",
    "        print(f\"Moved {filename} to {subject_folder}\")\n",
    "\n",
    "print(\"Images separated based on subject number.\")\n"
   ]
  }
 ],
 "metadata": {
  "kernelspec": {
   "display_name": "Python 3.10.2 64-bit",
   "language": "python",
   "name": "python3"
  },
  "language_info": {
   "codemirror_mode": {
    "name": "ipython",
    "version": 3
   },
   "file_extension": ".py",
   "mimetype": "text/x-python",
   "name": "python",
   "nbconvert_exporter": "python",
   "pygments_lexer": "ipython3",
   "version": "3.10.2"
  },
  "orig_nbformat": 4,
  "vscode": {
   "interpreter": {
    "hash": "aee8b7b246df8f9039afb4144a1f6fd8d2ca17a180786b69acc140d282b71a49"
   }
  }
 },
 "nbformat": 4,
 "nbformat_minor": 2
}
