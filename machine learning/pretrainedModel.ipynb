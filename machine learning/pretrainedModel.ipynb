{
 "cells": [
  {
   "cell_type": "markdown",
   "metadata": {},
   "source": [
    "experimenting with pretrained model. the purpose is to help the terminal Notebook with the experiment of only freezing conv layers (folds 10)"
   ]
  }
 ],
 "metadata": {
  "kernelspec": {
   "display_name": "REU-Hearing-Loss-Project",
   "language": "python",
   "name": "python3"
  },
  "language_info": {
   "codemirror_mode": {
    "name": "ipython",
    "version": 3
   },
   "file_extension": ".py",
   "mimetype": "text/x-python",
   "name": "python",
   "nbconvert_exporter": "python",
   "pygments_lexer": "ipython3",
   "version": "3.10.13"
  }
 },
 "nbformat": 4,
 "nbformat_minor": 2
}
